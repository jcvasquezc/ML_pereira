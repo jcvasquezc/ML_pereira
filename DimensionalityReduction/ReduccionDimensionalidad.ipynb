{
 "cells": [
  {
   "cell_type": "markdown",
   "metadata": {},
   "source": [
    "# Reducción de dimensionalidad"
   ]
  },
  {
   "cell_type": "markdown",
   "metadata": {},
   "source": [
    "La reducción de la dimensionalidad es un procedimiento muy común usado para disminuir el número de características que se aplican en un modelo. Cuando se tienen altas dimensiones, es más probable que el algoritmo se desempeñe no tan bien en las predicciones. A esto se llama maldición de la dimensionalidad."
   ]
  },
  {
   "cell_type": "markdown",
   "metadata": {},
   "source": [
    "## Conjunto de datos\n",
    "\n",
    "En este notebook usaremos un conjunto de datos proveniente de la página de datos abiertos de Colombia: https://www.datos.gov.co/Ambiente-y-Desarrollo-Sostenible/Emergencias-Naturales/xjv9-mim9.\n",
    "\n",
    "Los datos corresponden a desastres naturales (54 eventos diferentes) ocurridos en diferentes municipios y corregimientos colombianos entre 1998 y 2013. El dataset original contiene 23318 registros y 31 columnas. Sin embargo no se trabajan con todas las columnas, ya que muchas contienen datos nulos. Se realiza una [tabulación cruzada](https://es.wikipedia.org/wiki/Tabulaci%C3%B3n_cruzada) de la columna \"municipio\" y la columna \"evento\". Finalmente obtenemos una tabla con el siguiente formato:\n",
    "\n",
    "X | ACCIDENTE | ACCIDENTE AEREO | ACCIDENTE DE TRANSITO | ... |\n",
    "---------|----------------|---------|------------|----------------\n",
    "ABEJORRAL | 0 | 1 | 0 | ... \n",
    "ABREGO | 0 | 0 | 3 |...\n",
    "...|...|...|...|...\n",
    "\n",
    "Cada columna corresponde a un evento o desastre y cada fila corresponde a un municipio o corregimiento. El tamaño de la matriz final es de 1153 x 54"
   ]
  },
  {
   "cell_type": "markdown",
   "metadata": {},
   "source": [
    "## T-SNE"
   ]
  },
  {
   "cell_type": "markdown",
   "metadata": {},
   "source": [
    "Es una técnica usada para reducción de dimensionalidad. Es muy usada particularmente para visualizar conjuntos de datos de alta dimensionalidad. Básicamente se trata de minimizar la siguiente función de costo (llamada la divergencia de Kullback–Leibler) a través de descenso por gradiente:\n",
    "\n",
    "![Imagen](https://wikimedia.org/api/rest_v1/media/math/render/svg/cae779cfc3a41b382e68850f0381b6a6b7fdede7)"
   ]
  },
  {
   "cell_type": "markdown",
   "metadata": {},
   "source": [
    "Basta saber que $p_{ij}$ y $q_{ij}$ representa la similitud de los datos en la dimensión original y en la nueva dimensión respectivamente. Es decir, que el algoritmo T-SNE mapea los puntos o datos a una dimensión menor, intentando mantener la similitud entre los datos originales y los datos transformados. Esto quiere decir que la matriz de similitud (Similarity matrix)  de los datos originales $M_o$ y la matriz de similitud de los datos transformados $M_t$ son aproximadamente iguales."
   ]
  },
  {
   "cell_type": "markdown",
   "metadata": {},
   "source": [
    "Una aplicación común de este algoritmo es la visualización de los vectores creados a partir de las palabras usando el algoritmo [Word2Vec](https://en.wikipedia.org/wiki/Word2vec). Este algoritmo transforma las palabras en vectores de alta dimensionalidad. Sin embargo, para poder \"visualizar\" los vectores se usa el algoritmo T-SNE. La siguiente imagen muestra cómo el algoritmo T-SNE reduce la dimensionalidad efectivamente, manteniendo la cercanía entre palabras similares.\n",
    "\n",
    "<img src=\"https://colah.github.io/posts/2014-07-NLP-RNNs-Representations/img/Turian-WordTSNE.png\" width=\"500\" align=\"middle\" >\n"
   ]
  },
  {
   "cell_type": "markdown",
   "metadata": {},
   "source": [
    "## PCA\n",
    "\n",
    "El análisis de componentes principales selecciona las direcciones con mayor variabilidad. Permitiendo eliminar las direcciones con menor variabilidad, pues estas tienen menos información.\n",
    "\n",
    "<img src=\"images/pca.png\" />"
   ]
  },
  {
   "cell_type": "markdown",
   "metadata": {},
   "source": [
    "## Aplicación en los datos"
   ]
  },
  {
   "cell_type": "code",
   "execution_count": 2,
   "metadata": {
    "collapsed": true
   },
   "outputs": [],
   "source": [
    "import pandas as pd\n",
    "import numpy as np\n",
    "from sklearn import manifold\n",
    "import sklearn.metrics.pairwise as p\n",
    "from sklearn.decomposition import PCA\n",
    "import unicodedata\n",
    "import matplotlib.pyplot as plt\n",
    "from mpl_toolkits.mplot3d import Axes3D\n",
    "from matplotlib.ticker import NullFormatter\n"
   ]
  },
  {
   "cell_type": "code",
   "execution_count": 3,
   "metadata": {
    "collapsed": true
   },
   "outputs": [],
   "source": [
    "#numero de componentes para la reducción de la dimensionalidad\n",
    "n_components=2"
   ]
  },
  {
   "cell_type": "code",
   "execution_count": 4,
   "metadata": {
    "collapsed": false
   },
   "outputs": [],
   "source": [
    "#Lectura de datos\n",
    "emergencias = pd.read_csv(\"Emergencias_Naturales.csv\")\n",
    "\n",
    "#Normalización del nombre de los municipios\n",
    "#emergencias['municipio'] = map(lambda st: unicodedata.normalize('NFKD', st.decode('utf-8')).encode('ASCII', 'ignore'),emergencias['municipio'])\n",
    "emergencias = emergencias[emergencias['municipio']!=\"DEPARTAMENTO\"]"
   ]
  },
  {
   "cell_type": "code",
   "execution_count": 5,
   "metadata": {
    "collapsed": true
   },
   "outputs": [],
   "source": [
    "#Tabulación cruzada\n",
    "X= pd.crosstab(emergencias[\"municipio\"], emergencias[\"evento\"])\n"
   ]
  },
  {
   "cell_type": "code",
   "execution_count": 6,
   "metadata": {
    "collapsed": false
   },
   "outputs": [
    {
     "data": {
      "text/html": [
       "<div>\n",
       "<table border=\"1\" class=\"dataframe\">\n",
       "  <thead>\n",
       "    <tr style=\"text-align: right;\">\n",
       "      <th>evento</th>\n",
       "      <th>ACCIDENTE</th>\n",
       "      <th>ACCIDENTE AEREO</th>\n",
       "      <th>ACCIDENTE DE TRANSITO</th>\n",
       "      <th>ACCIDENTE EN MINA</th>\n",
       "      <th>ACCIDENTE MARITIMO</th>\n",
       "      <th>ACCIDENTE MINERO</th>\n",
       "      <th>ACCIDENTE TERRESTRE</th>\n",
       "      <th>ANTROPICO</th>\n",
       "      <th>AVALANCHA</th>\n",
       "      <th>COLAPSO</th>\n",
       "      <th>...</th>\n",
       "      <th>REMOCION EN MASA</th>\n",
       "      <th>REPRESAMIENTO</th>\n",
       "      <th>SEQUIA</th>\n",
       "      <th>SEQUIA/INCENDIOS FORESTALES</th>\n",
       "      <th>SISMO</th>\n",
       "      <th>TORMENTA ELECTRICA</th>\n",
       "      <th>TORNADO</th>\n",
       "      <th>VARIOS</th>\n",
       "      <th>VENDAVAL</th>\n",
       "      <th>VENDAVAL-INCENDIO ESTRUCTURAL</th>\n",
       "    </tr>\n",
       "    <tr>\n",
       "      <th>municipio</th>\n",
       "      <th></th>\n",
       "      <th></th>\n",
       "      <th></th>\n",
       "      <th></th>\n",
       "      <th></th>\n",
       "      <th></th>\n",
       "      <th></th>\n",
       "      <th></th>\n",
       "      <th></th>\n",
       "      <th></th>\n",
       "      <th></th>\n",
       "      <th></th>\n",
       "      <th></th>\n",
       "      <th></th>\n",
       "      <th></th>\n",
       "      <th></th>\n",
       "      <th></th>\n",
       "      <th></th>\n",
       "      <th></th>\n",
       "      <th></th>\n",
       "      <th></th>\n",
       "    </tr>\n",
       "  </thead>\n",
       "  <tbody>\n",
       "    <tr>\n",
       "      <th>ABEJORRAL</th>\n",
       "      <td>0</td>\n",
       "      <td>0</td>\n",
       "      <td>0</td>\n",
       "      <td>0</td>\n",
       "      <td>0</td>\n",
       "      <td>0</td>\n",
       "      <td>0</td>\n",
       "      <td>0</td>\n",
       "      <td>0</td>\n",
       "      <td>0</td>\n",
       "      <td>...</td>\n",
       "      <td>0</td>\n",
       "      <td>0</td>\n",
       "      <td>0</td>\n",
       "      <td>0</td>\n",
       "      <td>0</td>\n",
       "      <td>0</td>\n",
       "      <td>0</td>\n",
       "      <td>0</td>\n",
       "      <td>0</td>\n",
       "      <td>0</td>\n",
       "    </tr>\n",
       "    <tr>\n",
       "      <th>ABREGO</th>\n",
       "      <td>0</td>\n",
       "      <td>0</td>\n",
       "      <td>0</td>\n",
       "      <td>0</td>\n",
       "      <td>0</td>\n",
       "      <td>0</td>\n",
       "      <td>0</td>\n",
       "      <td>0</td>\n",
       "      <td>0</td>\n",
       "      <td>0</td>\n",
       "      <td>...</td>\n",
       "      <td>0</td>\n",
       "      <td>0</td>\n",
       "      <td>0</td>\n",
       "      <td>0</td>\n",
       "      <td>0</td>\n",
       "      <td>0</td>\n",
       "      <td>0</td>\n",
       "      <td>0</td>\n",
       "      <td>0</td>\n",
       "      <td>0</td>\n",
       "    </tr>\n",
       "    <tr>\n",
       "      <th>ABRIAQUI</th>\n",
       "      <td>0</td>\n",
       "      <td>0</td>\n",
       "      <td>0</td>\n",
       "      <td>0</td>\n",
       "      <td>0</td>\n",
       "      <td>0</td>\n",
       "      <td>0</td>\n",
       "      <td>0</td>\n",
       "      <td>0</td>\n",
       "      <td>0</td>\n",
       "      <td>...</td>\n",
       "      <td>0</td>\n",
       "      <td>0</td>\n",
       "      <td>0</td>\n",
       "      <td>0</td>\n",
       "      <td>0</td>\n",
       "      <td>0</td>\n",
       "      <td>0</td>\n",
       "      <td>0</td>\n",
       "      <td>0</td>\n",
       "      <td>0</td>\n",
       "    </tr>\n",
       "    <tr>\n",
       "      <th>ABRIAQUÍ</th>\n",
       "      <td>0</td>\n",
       "      <td>0</td>\n",
       "      <td>0</td>\n",
       "      <td>0</td>\n",
       "      <td>0</td>\n",
       "      <td>0</td>\n",
       "      <td>0</td>\n",
       "      <td>0</td>\n",
       "      <td>0</td>\n",
       "      <td>0</td>\n",
       "      <td>...</td>\n",
       "      <td>0</td>\n",
       "      <td>0</td>\n",
       "      <td>0</td>\n",
       "      <td>0</td>\n",
       "      <td>0</td>\n",
       "      <td>0</td>\n",
       "      <td>0</td>\n",
       "      <td>0</td>\n",
       "      <td>0</td>\n",
       "      <td>0</td>\n",
       "    </tr>\n",
       "    <tr>\n",
       "      <th>ACACIAS</th>\n",
       "      <td>0</td>\n",
       "      <td>0</td>\n",
       "      <td>0</td>\n",
       "      <td>0</td>\n",
       "      <td>0</td>\n",
       "      <td>0</td>\n",
       "      <td>0</td>\n",
       "      <td>0</td>\n",
       "      <td>0</td>\n",
       "      <td>0</td>\n",
       "      <td>...</td>\n",
       "      <td>0</td>\n",
       "      <td>0</td>\n",
       "      <td>0</td>\n",
       "      <td>0</td>\n",
       "      <td>0</td>\n",
       "      <td>0</td>\n",
       "      <td>0</td>\n",
       "      <td>0</td>\n",
       "      <td>0</td>\n",
       "      <td>0</td>\n",
       "    </tr>\n",
       "  </tbody>\n",
       "</table>\n",
       "<p>5 rows × 53 columns</p>\n",
       "</div>"
      ],
      "text/plain": [
       "evento     ACCIDENTE  ACCIDENTE AEREO  ACCIDENTE DE TRANSITO  \\\n",
       "municipio                                                      \n",
       "ABEJORRAL          0                0                      0   \n",
       "ABREGO             0                0                      0   \n",
       "ABRIAQUI           0                0                      0   \n",
       "ABRIAQUÍ           0                0                      0   \n",
       "ACACIAS            0                0                      0   \n",
       "\n",
       "evento     ACCIDENTE EN MINA  ACCIDENTE MARITIMO  ACCIDENTE MINERO  \\\n",
       "municipio                                                            \n",
       "ABEJORRAL                  0                   0                 0   \n",
       "ABREGO                     0                   0                 0   \n",
       "ABRIAQUI                   0                   0                 0   \n",
       "ABRIAQUÍ                   0                   0                 0   \n",
       "ACACIAS                    0                   0                 0   \n",
       "\n",
       "evento     ACCIDENTE TERRESTRE  ANTROPICO  AVALANCHA  COLAPSO  \\\n",
       "municipio                                                       \n",
       "ABEJORRAL                    0          0          0        0   \n",
       "ABREGO                       0          0          0        0   \n",
       "ABRIAQUI                     0          0          0        0   \n",
       "ABRIAQUÍ                     0          0          0        0   \n",
       "ACACIAS                      0          0          0        0   \n",
       "\n",
       "evento                 ...                REMOCION EN MASA  REPRESAMIENTO  \\\n",
       "municipio              ...                                                  \n",
       "ABEJORRAL              ...                               0              0   \n",
       "ABREGO                 ...                               0              0   \n",
       "ABRIAQUI               ...                               0              0   \n",
       "ABRIAQUÍ               ...                               0              0   \n",
       "ACACIAS                ...                               0              0   \n",
       "\n",
       "evento     SEQUIA  SEQUIA/INCENDIOS FORESTALES  SISMO  TORMENTA ELECTRICA  \\\n",
       "municipio                                                                   \n",
       "ABEJORRAL       0                            0      0                   0   \n",
       "ABREGO          0                            0      0                   0   \n",
       "ABRIAQUI        0                            0      0                   0   \n",
       "ABRIAQUÍ        0                            0      0                   0   \n",
       "ACACIAS         0                            0      0                   0   \n",
       "\n",
       "evento     TORNADO  VARIOS  VENDAVAL  VENDAVAL-INCENDIO ESTRUCTURAL  \n",
       "municipio                                                            \n",
       "ABEJORRAL        0       0         0                              0  \n",
       "ABREGO           0       0         0                              0  \n",
       "ABRIAQUI         0       0         0                              0  \n",
       "ABRIAQUÍ         0       0         0                              0  \n",
       "ACACIAS          0       0         0                              0  \n",
       "\n",
       "[5 rows x 53 columns]"
      ]
     },
     "execution_count": 6,
     "metadata": {},
     "output_type": "execute_result"
    }
   ],
   "source": [
    "#Visualización de la tabla nueva\n",
    "X.head()"
   ]
  },
  {
   "cell_type": "code",
   "execution_count": 7,
   "metadata": {
    "collapsed": false
   },
   "outputs": [],
   "source": [
    "tsne = manifold.TSNE(n_components=n_components, init='pca', random_state=0)"
   ]
  },
  {
   "cell_type": "code",
   "execution_count": 8,
   "metadata": {
    "collapsed": true
   },
   "outputs": [],
   "source": [
    "Y = tsne.fit_transform(X)"
   ]
  },
  {
   "cell_type": "code",
   "execution_count": 9,
   "metadata": {
    "collapsed": false
   },
   "outputs": [],
   "source": [
    "#Matrices de distancias\n",
    "mdX = p.pairwise_distances(X) #Matriz de distancias original\n",
    "mdY_tsne = p.pairwise_distances(Y) #Matriz de distancias halladas por el algoritmo TSNE\n",
    "\n"
   ]
  },
  {
   "cell_type": "code",
   "execution_count": 10,
   "metadata": {
    "collapsed": false
   },
   "outputs": [],
   "source": [
    "#se organizan los municipios del más parecido a mocoa al menos parecido según la matriz de distancia original\n",
    "imax = np.argsort(mdX[X.index==\"MOCOA\"])\n",
    "similares_mocoaX=X.index[imax]\n",
    "\n",
    "#se organizan los municipios del más parecido a mocoa al menos parecido según la matriz de distancia dada por el tsne\n",
    "jmax = np.argsort(mdY_tsne[X.index==\"MOCOA\"])\n",
    "similares_mocoaY=X.index[jmax]"
   ]
  },
  {
   "cell_type": "code",
   "execution_count": 14,
   "metadata": {
    "collapsed": false
   },
   "outputs": [],
   "source": [
    "#Se toman los diez municipios más cercanos según las distancias originales y según las distancias del tsne\n",
    "DF=pd.DataFrame(similares_mocoaX[0][1:10], columns=[\"original\"])\n",
    "DF[\"tsne\"] = similares_mocoaY[0][1:10]"
   ]
  },
  {
   "cell_type": "code",
   "execution_count": 15,
   "metadata": {
    "collapsed": false
   },
   "outputs": [
    {
     "data": {
      "text/html": [
       "<div>\n",
       "<table border=\"1\" class=\"dataframe\">\n",
       "  <thead>\n",
       "    <tr style=\"text-align: right;\">\n",
       "      <th></th>\n",
       "      <th>original</th>\n",
       "      <th>tsne</th>\n",
       "    </tr>\n",
       "  </thead>\n",
       "  <tbody>\n",
       "    <tr>\n",
       "      <th>0</th>\n",
       "      <td>CÓRDOBA</td>\n",
       "      <td>RIOSUCIO</td>\n",
       "    </tr>\n",
       "    <tr>\n",
       "      <th>1</th>\n",
       "      <td>RIOSUCIO</td>\n",
       "      <td>BUENAVISTA</td>\n",
       "    </tr>\n",
       "    <tr>\n",
       "      <th>2</th>\n",
       "      <td>TRUJILLO</td>\n",
       "      <td>CÓRDOBA</td>\n",
       "    </tr>\n",
       "    <tr>\n",
       "      <th>3</th>\n",
       "      <td>LA UNIÓN</td>\n",
       "      <td>SAN PABLO</td>\n",
       "    </tr>\n",
       "    <tr>\n",
       "      <th>4</th>\n",
       "      <td>BUENAVISTA</td>\n",
       "      <td>LA UNIÓN</td>\n",
       "    </tr>\n",
       "    <tr>\n",
       "      <th>5</th>\n",
       "      <td>SUCRE</td>\n",
       "      <td>BOLÍVAR</td>\n",
       "    </tr>\n",
       "    <tr>\n",
       "      <th>6</th>\n",
       "      <td>SINCELEJO</td>\n",
       "      <td>RIONEGRO</td>\n",
       "    </tr>\n",
       "    <tr>\n",
       "      <th>7</th>\n",
       "      <td>SAN VICENTE DE CHUCURÍ</td>\n",
       "      <td>BARRANCABERMEJA</td>\n",
       "    </tr>\n",
       "    <tr>\n",
       "      <th>8</th>\n",
       "      <td>EL LITORAL DEL SAN JUAN</td>\n",
       "      <td>VALLEDUPAR</td>\n",
       "    </tr>\n",
       "  </tbody>\n",
       "</table>\n",
       "</div>"
      ],
      "text/plain": [
       "                  original             tsne\n",
       "0                  CÓRDOBA         RIOSUCIO\n",
       "1                 RIOSUCIO       BUENAVISTA\n",
       "2                 TRUJILLO          CÓRDOBA\n",
       "3                 LA UNIÓN        SAN PABLO\n",
       "4               BUENAVISTA         LA UNIÓN\n",
       "5                    SUCRE          BOLÍVAR\n",
       "6                SINCELEJO         RIONEGRO\n",
       "7   SAN VICENTE DE CHUCURÍ  BARRANCABERMEJA\n",
       "8  EL LITORAL DEL SAN JUAN       VALLEDUPAR"
      ]
     },
     "execution_count": 15,
     "metadata": {},
     "output_type": "execute_result"
    }
   ],
   "source": [
    "DF"
   ]
  },
  {
   "cell_type": "code",
   "execution_count": 16,
   "metadata": {
    "collapsed": false
   },
   "outputs": [],
   "source": [
    "similares_mocoa = Y[jmax[0][1:10],]"
   ]
  },
  {
   "cell_type": "code",
   "execution_count": 17,
   "metadata": {
    "collapsed": false
   },
   "outputs": [
    {
     "data": {
      "text/plain": [
       "<matplotlib.collections.PathCollection at 0xca58a58>"
      ]
     },
     "execution_count": 17,
     "metadata": {},
     "output_type": "execute_result"
    },
    {
     "data": {
      "image/png": "[encoded data removed]",
      "text/plain": [
       "<matplotlib.figure.Figure at 0xa1de4e0>"
      ]
     },
     "metadata": {},
     "output_type": "display_data"
    }
   ],
   "source": [
    "#Se grafican en verde los puntos más cercanos según el original\n",
    "%matplotlib inline  \n",
    "\n",
    "fig, ax = plt.subplots()\n",
    "\n",
    "ax.scatter(Y[:,0], Y[:,1], color='r')\n",
    "ax.scatter(similares_mocoa[:,0], similares_mocoa[:,1], color='g')"
   ]
  },
  {
   "cell_type": "code",
   "execution_count": 18,
   "metadata": {
    "collapsed": true
   },
   "outputs": [],
   "source": [
    "#Se aplica PCA sobre los datos\n",
    "pca = PCA(n_components=2)\n",
    "Y_pca =pca.fit_transform(X)"
   ]
  },
  {
   "cell_type": "code",
   "execution_count": 19,
   "metadata": {
    "collapsed": false
   },
   "outputs": [],
   "source": [
    "#Se toman los diez municipios más cercanos a Mocoa después de la reducción de dimensionalidad\n",
    "mdY_pca = p.pairwise_distances(Y_pca)\n",
    "jmax = np.argsort(mdY_pca[X.index==\"MOCOA\"])\n",
    "similares_mocoaY_pca=X.index[jmax]\n",
    "DF[\"pca\"] = similares_mocoaY_pca[0][1:10]"
   ]
  },
  {
   "cell_type": "code",
   "execution_count": 20,
   "metadata": {
    "collapsed": false
   },
   "outputs": [
    {
     "data": {
      "text/html": [
       "<div>\n",
       "<table border=\"1\" class=\"dataframe\">\n",
       "  <thead>\n",
       "    <tr style=\"text-align: right;\">\n",
       "      <th></th>\n",
       "      <th>original</th>\n",
       "      <th>tsne</th>\n",
       "      <th>pca</th>\n",
       "    </tr>\n",
       "  </thead>\n",
       "  <tbody>\n",
       "    <tr>\n",
       "      <th>0</th>\n",
       "      <td>CÓRDOBA</td>\n",
       "      <td>RIOSUCIO</td>\n",
       "      <td>CÓRDOBA</td>\n",
       "    </tr>\n",
       "    <tr>\n",
       "      <th>1</th>\n",
       "      <td>RIOSUCIO</td>\n",
       "      <td>BUENAVISTA</td>\n",
       "      <td>RIOSUCIO</td>\n",
       "    </tr>\n",
       "    <tr>\n",
       "      <th>2</th>\n",
       "      <td>TRUJILLO</td>\n",
       "      <td>CÓRDOBA</td>\n",
       "      <td>SAN PABLO</td>\n",
       "    </tr>\n",
       "    <tr>\n",
       "      <th>3</th>\n",
       "      <td>LA UNIÓN</td>\n",
       "      <td>SAN PABLO</td>\n",
       "      <td>JAMUNDÍ</td>\n",
       "    </tr>\n",
       "    <tr>\n",
       "      <th>4</th>\n",
       "      <td>BUENAVISTA</td>\n",
       "      <td>LA UNIÓN</td>\n",
       "      <td>LA UNIÓN</td>\n",
       "    </tr>\n",
       "    <tr>\n",
       "      <th>5</th>\n",
       "      <td>SUCRE</td>\n",
       "      <td>BOLÍVAR</td>\n",
       "      <td>BUENAVISTA</td>\n",
       "    </tr>\n",
       "    <tr>\n",
       "      <th>6</th>\n",
       "      <td>SINCELEJO</td>\n",
       "      <td>RIONEGRO</td>\n",
       "      <td>TRUJILLO</td>\n",
       "    </tr>\n",
       "    <tr>\n",
       "      <th>7</th>\n",
       "      <td>SAN VICENTE DE CHUCURÍ</td>\n",
       "      <td>BARRANCABERMEJA</td>\n",
       "      <td>ISTMINA</td>\n",
       "    </tr>\n",
       "    <tr>\n",
       "      <th>8</th>\n",
       "      <td>EL LITORAL DEL SAN JUAN</td>\n",
       "      <td>VALLEDUPAR</td>\n",
       "      <td>GUAMO</td>\n",
       "    </tr>\n",
       "  </tbody>\n",
       "</table>\n",
       "</div>"
      ],
      "text/plain": [
       "                  original             tsne         pca\n",
       "0                  CÓRDOBA         RIOSUCIO     CÓRDOBA\n",
       "1                 RIOSUCIO       BUENAVISTA    RIOSUCIO\n",
       "2                 TRUJILLO          CÓRDOBA   SAN PABLO\n",
       "3                 LA UNIÓN        SAN PABLO     JAMUNDÍ\n",
       "4               BUENAVISTA         LA UNIÓN    LA UNIÓN\n",
       "5                    SUCRE          BOLÍVAR  BUENAVISTA\n",
       "6                SINCELEJO         RIONEGRO    TRUJILLO\n",
       "7   SAN VICENTE DE CHUCURÍ  BARRANCABERMEJA     ISTMINA\n",
       "8  EL LITORAL DEL SAN JUAN       VALLEDUPAR       GUAMO"
      ]
     },
     "execution_count": 20,
     "metadata": {},
     "output_type": "execute_result"
    }
   ],
   "source": [
    "DF"
   ]
  },
  {
   "cell_type": "code",
   "execution_count": 21,
   "metadata": {
    "collapsed": true
   },
   "outputs": [],
   "source": [
    "similares_mocoa = Y_pca[jmax[0][1:10],]"
   ]
  },
  {
   "cell_type": "code",
   "execution_count": 22,
   "metadata": {
    "collapsed": false
   },
   "outputs": [
    {
     "data": {
      "text/plain": [
       "<matplotlib.collections.PathCollection at 0xcbaaba8>"
      ]
     },
     "execution_count": 22,
     "metadata": {},
     "output_type": "execute_result"
    },
    {
     "data": {
      "image/png": "[encoded data removed]",
      "text/plain": [
       "<matplotlib.figure.Figure at 0xa1de2e8>"
      ]
     },
     "metadata": {},
     "output_type": "display_data"
    }
   ],
   "source": [
    "#Se grafican en verde los puntos más cercanos a mocoa en el original\n",
    "%matplotlib inline  \n",
    "fig, ax = plt.subplots()\n",
    "ax.scatter(Y_pca[:,0], Y_pca[:,1], color='r')\n",
    "ax.scatter(similares_mocoa[:,0], similares_mocoa[:,1], color='g')\n"
   ]
  },
  {
   "cell_type": "markdown",
   "metadata": {},
   "source": [
    "Como se puede ver, el TSNE guarda más fidelidad a la distancias originales. En la gráfica del espacio proyectado por el algoritmo TSNE, los puntos verdes (los diez municipios más cercanos a MOCOA) están más cercanos entre sí que en la gráfica del espacio proyectado por el algoritmo PCA."
   ]
  }
 ],
 "metadata": {
  "kernelspec": {
   "display_name": "Python 2",
   "language": "python",
   "name": "python2"
  },
  "language_info": {
   "codemirror_mode": {
    "name": "ipython",
    "version": 2
   },
   "file_extension": ".py",
   "mimetype": "text/x-python",
   "name": "python",
   "nbconvert_exporter": "python",
   "pygments_lexer": "ipython2",
   "version": "2.7.11"
  }
 },
 "nbformat": 4,
 "nbformat_minor": 0
}
